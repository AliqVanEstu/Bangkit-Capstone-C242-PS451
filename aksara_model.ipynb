{
 "cells": [
  {
   "cell_type": "code",
   "execution_count": 1,
   "metadata": {},
   "outputs": [
    {
     "name": "stdout",
     "output_type": "stream",
     "text": [
      "WARNING:tensorflow:From c:\\Users\\acer\\anaconda3\\envs\\streamlitenv\\Lib\\site-packages\\keras\\src\\losses.py:2976: The name tf.losses.sparse_softmax_cross_entropy is deprecated. Please use tf.compat.v1.losses.sparse_softmax_cross_entropy instead.\n",
      "\n"
     ]
    }
   ],
   "source": [
    "import os\n",
    "import tensorflow as tf\n",
    "import numpy as np\n",
    "import pandas as pd\n",
    "import matplotlib.pyplot as plt\n",
    "import tkinter as tk\n",
    "import matplotlib.image as mpimg\n",
    "from tkinter import filedialog"
   ]
  },
  {
   "cell_type": "code",
   "execution_count": 2,
   "metadata": {},
   "outputs": [],
   "source": [
    "DATA_DIR =  r\"D:\\Ghaniy\\Semester 5\\MBKM\\2024\\Bangkit\\Capstone\\Dataset Dipake\\train\""
   ]
  },
  {
   "cell_type": "code",
   "execution_count": 3,
   "metadata": {},
   "outputs": [
    {
     "name": "stdout",
     "output_type": "stream",
     "text": [
      "1. There are 1323  for ba images.\n",
      "2. There are 420 for ca images.\n",
      "3. There are 1362 for da images.\n",
      "4. There are 420 for dha images.\n",
      "5. There are 1329 for ga images.\n",
      "6. There are 1484 for ha images.\n",
      "7. There are 420 for ja images.\n",
      "8. There are 1551 for ka images.\n",
      "9. There are 1437 for la images.\n",
      "10. There are 1446 for ma images.\n",
      "11. There are 1512 for pa images.\n",
      "12. There are 1329 for nga images.\n",
      "13. There are 420 for nya images.\n",
      "14. There are 1476 for pa images.\n",
      "15. There are 1500 for ra images.\n",
      "16. There are 1464 for sa images.\n",
      "17. There are 564 for ta images.\n",
      "18. There are 420 for tha images.\n",
      "19. There are 1473 for wa images.\n",
      "20. There are 1323 for ya images.\n"
     ]
    }
   ],
   "source": [
    "data_dir_ba = os.path.join(DATA_DIR, 'ba')\n",
    "data_dir_ca = os.path.join(DATA_DIR, 'ca')\n",
    "data_dir_da = os.path.join(DATA_DIR, 'da')\n",
    "data_dir_dha = os.path.join(DATA_DIR, 'dha')\n",
    "data_dir_ga = os.path.join(DATA_DIR, 'ga')\n",
    "data_dir_ha = os.path.join(DATA_DIR, 'ha')\n",
    "data_dir_ja = os.path.join(DATA_DIR, 'ja')\n",
    "data_dir_ka = os.path.join(DATA_DIR, 'ka')\n",
    "data_dir_la = os.path.join(DATA_DIR, 'la')\n",
    "data_dir_ma = os.path.join(DATA_DIR, 'ma')\n",
    "data_dir_na = os.path.join(DATA_DIR, 'na')\n",
    "data_dir_nga = os.path.join(DATA_DIR, 'nga')\n",
    "data_dir_nya = os.path.join(DATA_DIR, 'nya')\n",
    "data_dir_pa = os.path.join(DATA_DIR, 'pa')\n",
    "data_dir_ra = os.path.join(DATA_DIR, 'ra')\n",
    "data_dir_sa = os.path.join(DATA_DIR, 'sa')\n",
    "data_dir_ta = os.path.join(DATA_DIR, 'ta')\n",
    "data_dir_tha = os.path.join(DATA_DIR, 'tha')\n",
    "data_dir_wa = os.path.join(DATA_DIR, 'wa')\n",
    "data_dir_ya = os.path.join(DATA_DIR, 'ya')\n",
    "\n",
    "\n",
    "print(f\"1. There are {len(os.listdir(data_dir_ba))}  for ba images.\")\n",
    "print(f\"2. There are {len(os.listdir(data_dir_ca))} for ca images.\")\n",
    "print(f\"3. There are {len(os.listdir(data_dir_da))} for da images.\")\n",
    "print(f\"4. There are {len(os.listdir(data_dir_dha))} for dha images.\")\n",
    "print(f\"5. There are {len(os.listdir(data_dir_ga))} for ga images.\")\n",
    "print(f\"6. There are {len(os.listdir(data_dir_ha))} for ha images.\")\n",
    "print(f\"7. There are {len(os.listdir(data_dir_ja))} for ja images.\")\n",
    "print(f\"8. There are {len(os.listdir(data_dir_ka))} for ka images.\")\n",
    "print(f\"9. There are {len(os.listdir(data_dir_la))} for la images.\")\n",
    "print(f\"10. There are {len(os.listdir(data_dir_ma))} for ma images.\")\n",
    "print(f\"11. There are {len(os.listdir(data_dir_na))} for pa images.\")\n",
    "print(f\"12. There are {len(os.listdir(data_dir_nga))} for nga images.\")\n",
    "print(f\"13. There are {len(os.listdir(data_dir_nya))} for nya images.\")\n",
    "print(f\"14. There are {len(os.listdir(data_dir_pa))} for pa images.\")\n",
    "print(f\"15. There are {len(os.listdir(data_dir_ra))} for ra images.\")\n",
    "print(f\"16. There are {len(os.listdir(data_dir_sa))} for sa images.\")\n",
    "print(f\"17. There are {len(os.listdir(data_dir_ta))} for ta images.\")\n",
    "print(f\"18. There are {len(os.listdir(data_dir_tha))} for tha images.\")\n",
    "print(f\"19. There are {len(os.listdir(data_dir_wa))} for wa images.\")\n",
    "print(f\"20. There are {len(os.listdir(data_dir_ya))} for ya images.\")\n"
   ]
  },
  {
   "cell_type": "code",
   "execution_count": 4,
   "metadata": {},
   "outputs": [],
   "source": [
    "def train_val_datasets():\n",
    "\n",
    "  training_dataset = tf.keras.utils.image_dataset_from_directory(\n",
    "        directory=DATA_DIR,\n",
    "        image_size=(150, 150),\n",
    "        batch_size=128,\n",
    "        label_mode='int',\n",
    "        validation_split=0.2,\n",
    "        subset=\"training\",\n",
    "        seed=42\n",
    "    )\n",
    "  validation_dataset = tf.keras.utils.image_dataset_from_directory(\n",
    "        directory=DATA_DIR,\n",
    "        image_size=(150, 150),\n",
    "        batch_size=128,\n",
    "        label_mode='int',\n",
    "        validation_split=0.2,\n",
    "        subset=\"validation\",\n",
    "        seed=42\n",
    "    )\n",
    "  return training_dataset, validation_dataset"
   ]
  },
  {
   "cell_type": "code",
   "execution_count": 5,
   "metadata": {},
   "outputs": [
    {
     "name": "stdout",
     "output_type": "stream",
     "text": [
      "Found 22673 files belonging to 20 classes.\n",
      "Using 18139 files for training.\n",
      "Found 22673 files belonging to 20 classes.\n",
      "Using 4534 files for validation.\n"
     ]
    }
   ],
   "source": [
    "training_dataset, validation_dataset = train_val_datasets()"
   ]
  },
  {
   "cell_type": "code",
   "execution_count": 6,
   "metadata": {},
   "outputs": [
    {
     "name": "stdout",
     "output_type": "stream",
     "text": [
      "Maximum pixel value of images: 255.0\n",
      "\n",
      "Shape of batch of images: (128, 150, 150, 3)\n",
      "Shape of batch of labels: (128,)\n"
     ]
    }
   ],
   "source": [
    "for images, labels in training_dataset.take(1):\n",
    "\texample_batch_images = images\n",
    "\texample_batch_labels = labels\n",
    "\n",
    "print(f\"Maximum pixel value of images: {np.max(example_batch_images)}\\n\")\n",
    "print(f\"Shape of batch of images: {example_batch_images.shape}\")\n",
    "print(f\"Shape of batch of labels: {example_batch_labels.shape}\")"
   ]
  },
  {
   "cell_type": "code",
   "execution_count": 7,
   "metadata": {},
   "outputs": [
    {
     "name": "stdout",
     "output_type": "stream",
     "text": [
      "WARNING:tensorflow:From c:\\Users\\acer\\anaconda3\\envs\\streamlitenv\\Lib\\site-packages\\keras\\src\\backend.py:873: The name tf.get_default_graph is deprecated. Please use tf.compat.v1.get_default_graph instead.\n",
      "\n"
     ]
    }
   ],
   "source": [
    "data_augmentation = tf.keras.Sequential([\n",
    "    #tf.keras.layers.RandomRotation(0.1),\n",
    "    #tf.keras.layers.RandomTranslation(0.1, 0.1),\n",
    "    #tf.keras.layers.RandomZoom(0.1),\n",
    "\ttf.keras.layers.Rescaling(1./255),\n",
    "    #tf.keras.layers.RandomFlip(\"horizontal_and_vertical\"),\n",
    "    tf.keras.layers.RandomContrast(0.1),\n",
    "])"
   ]
  },
  {
   "cell_type": "code",
   "execution_count": 9,
   "metadata": {},
   "outputs": [],
   "source": [
    "def create_model():\n",
    "   model = tf.keras.models.Sequential([\n",
    "         tf.keras.layers.InputLayer(input_shape=(150, 150, 3), name=\"input_layer\"),\n",
    "        data_augmentation,\n",
    "        \n",
    "        # Convolutional Block 1\n",
    "        tf.keras.layers.Conv2D(32, (3, 3), activation='relu', padding='same'),\n",
    "        tf.keras.layers.Conv2D(32, (3, 3), activation='relu', padding='same'),\n",
    "        tf.keras.layers.MaxPooling2D((2, 2)),\n",
    "\n",
    "        # Convolutional Block 2\n",
    "        tf.keras.layers.Conv2D(64, (3, 3), activation='relu', padding='same'),\n",
    "        tf.keras.layers.Conv2D(64, (3, 3), activation='relu', padding='same'),\n",
    "        tf.keras.layers.MaxPooling2D((2, 2)),\n",
    "\n",
    "        # Convolutional Block 3\n",
    "        tf.keras.layers.Conv2D(128, (3, 3), activation='relu', padding='same'),\n",
    "        tf.keras.layers.Conv2D(128, (3, 3), activation='relu', padding='same'),\n",
    "        tf.keras.layers.MaxPooling2D((2, 2)),\n",
    "\n",
    "        tf.keras.layers.Flatten(),\n",
    "        tf.keras.layers.Dense(256, activation='relu'),\n",
    "        tf.keras.layers.Dropout(0.25),\n",
    "        tf.keras.layers.Dense(128, activation='relu'),\n",
    "        tf.keras.layers.Dense(64, activation='relu'),\n",
    "        tf.keras.layers.Dense(20, activation='softmax')\n",
    "    ])\n",
    "\n",
    "   model.compile(\n",
    "        optimizer='adam',\n",
    "        loss='sparse_categorical_crossentropy',\n",
    "        metrics=['accuracy']\n",
    "    )\n",
    "   return model"
   ]
  },
  {
   "cell_type": "code",
   "execution_count": 10,
   "metadata": {},
   "outputs": [
    {
     "name": "stdout",
     "output_type": "stream",
     "text": [
      "WARNING:tensorflow:From c:\\Users\\acer\\anaconda3\\envs\\streamlitenv\\Lib\\site-packages\\keras\\src\\layers\\pooling\\max_pooling2d.py:161: The name tf.nn.max_pool is deprecated. Please use tf.nn.max_pool2d instead.\n",
      "\n",
      "WARNING:tensorflow:From c:\\Users\\acer\\anaconda3\\envs\\streamlitenv\\Lib\\site-packages\\keras\\src\\optimizers\\__init__.py:309: The name tf.train.Optimizer is deprecated. Please use tf.compat.v1.train.Optimizer instead.\n",
      "\n"
     ]
    }
   ],
   "source": [
    "model = create_model()"
   ]
  },
  {
   "cell_type": "code",
   "execution_count": 11,
   "metadata": {},
   "outputs": [
    {
     "name": "stdout",
     "output_type": "stream",
     "text": [
      "Model: \"sequential_1\"\n",
      "_________________________________________________________________\n",
      " Layer (type)                Output Shape              Param #   \n",
      "=================================================================\n",
      " sequential (Sequential)     (None, 150, 150, 3)       0         \n",
      "                                                                 \n",
      " conv2d (Conv2D)             (None, 150, 150, 32)      896       \n",
      "                                                                 \n",
      " conv2d_1 (Conv2D)           (None, 150, 150, 32)      9248      \n",
      "                                                                 \n",
      " max_pooling2d (MaxPooling2  (None, 75, 75, 32)        0         \n",
      " D)                                                              \n",
      "                                                                 \n",
      " conv2d_2 (Conv2D)           (None, 75, 75, 64)        18496     \n",
      "                                                                 \n",
      " conv2d_3 (Conv2D)           (None, 75, 75, 64)        36928     \n",
      "                                                                 \n",
      " max_pooling2d_1 (MaxPoolin  (None, 37, 37, 64)        0         \n",
      " g2D)                                                            \n",
      "                                                                 \n",
      " conv2d_4 (Conv2D)           (None, 37, 37, 128)       73856     \n",
      "                                                                 \n",
      " conv2d_5 (Conv2D)           (None, 37, 37, 128)       147584    \n",
      "                                                                 \n",
      " max_pooling2d_2 (MaxPoolin  (None, 18, 18, 128)       0         \n",
      " g2D)                                                            \n",
      "                                                                 \n",
      " flatten (Flatten)           (None, 41472)             0         \n",
      "                                                                 \n",
      " dense (Dense)               (None, 256)               10617088  \n",
      "                                                                 \n",
      " dropout (Dropout)           (None, 256)               0         \n",
      "                                                                 \n",
      " dense_1 (Dense)             (None, 128)               32896     \n",
      "                                                                 \n",
      " dense_2 (Dense)             (None, 64)                8256      \n",
      "                                                                 \n",
      " dense_3 (Dense)             (None, 20)                1300      \n",
      "                                                                 \n",
      "=================================================================\n",
      "Total params: 10946548 (41.76 MB)\n",
      "Trainable params: 10946548 (41.76 MB)\n",
      "Non-trainable params: 0 (0.00 Byte)\n",
      "_________________________________________________________________\n",
      "None\n"
     ]
    }
   ],
   "source": [
    "print(model.summary())"
   ]
  },
  {
   "cell_type": "code",
   "execution_count": 12,
   "metadata": {},
   "outputs": [
    {
     "name": "stdout",
     "output_type": "stream",
     "text": [
      "WARNING:tensorflow:From c:\\Users\\acer\\anaconda3\\envs\\streamlitenv\\Lib\\site-packages\\keras\\src\\utils\\tf_utils.py:492: The name tf.ragged.RaggedTensorValue is deprecated. Please use tf.compat.v1.ragged.RaggedTensorValue instead.\n",
      "\n",
      "WARNING:tensorflow:From c:\\Users\\acer\\anaconda3\\envs\\streamlitenv\\Lib\\site-packages\\keras\\src\\engine\\base_layer_utils.py:384: The name tf.executing_eagerly_outside_functions is deprecated. Please use tf.compat.v1.executing_eagerly_outside_functions instead.\n",
      "\n",
      "predictions have shape: (128, 20)\n"
     ]
    }
   ],
   "source": [
    "try:\n",
    "\tmodel.evaluate(example_batch_images, example_batch_labels, verbose=False)\n",
    "except:\n",
    "\tprint(\"Your model is not compatible with the dataset you defined earlier. Check that the loss function, last layer and label_mode are compatible with one another.\")\n",
    "else:\n",
    "\tpredictions = model.predict(example_batch_images, verbose=False)\n",
    "\tprint(f\"predictions have shape: {predictions.shape}\")"
   ]
  },
  {
   "cell_type": "code",
   "execution_count": 13,
   "metadata": {},
   "outputs": [
    {
     "name": "stdout",
     "output_type": "stream",
     "text": [
      "Epoch 1/15\n",
      "142/142 [==============================] - 313s 2s/step - loss: 1.9788 - accuracy: 0.3856 - val_loss: 0.7789 - val_accuracy: 0.7719\n",
      "Epoch 2/15\n",
      "142/142 [==============================] - 283s 2s/step - loss: 0.4431 - accuracy: 0.8638 - val_loss: 0.1121 - val_accuracy: 0.9698\n",
      "Epoch 3/15\n",
      "142/142 [==============================] - 294s 2s/step - loss: 0.1485 - accuracy: 0.9531 - val_loss: 0.0638 - val_accuracy: 0.9826\n",
      "Epoch 4/15\n",
      "142/142 [==============================] - 270s 2s/step - loss: 0.0824 - accuracy: 0.9749 - val_loss: 0.0589 - val_accuracy: 0.9863\n",
      "Epoch 5/15\n",
      "142/142 [==============================] - 261s 2s/step - loss: 0.0601 - accuracy: 0.9820 - val_loss: 0.0436 - val_accuracy: 0.9885\n",
      "Epoch 6/15\n",
      "142/142 [==============================] - 260s 2s/step - loss: 0.0556 - accuracy: 0.9852 - val_loss: 0.0349 - val_accuracy: 0.9916\n",
      "Epoch 7/15\n",
      "142/142 [==============================] - 260s 2s/step - loss: 0.0366 - accuracy: 0.9880 - val_loss: 0.0396 - val_accuracy: 0.9914\n",
      "Epoch 8/15\n",
      "142/142 [==============================] - 260s 2s/step - loss: 0.0371 - accuracy: 0.9883 - val_loss: 0.0294 - val_accuracy: 0.9934\n",
      "Epoch 9/15\n",
      "142/142 [==============================] - 260s 2s/step - loss: 0.0286 - accuracy: 0.9915 - val_loss: 0.0289 - val_accuracy: 0.9936\n",
      "Epoch 10/15\n",
      "142/142 [==============================] - 260s 2s/step - loss: 0.0253 - accuracy: 0.9918 - val_loss: 0.0304 - val_accuracy: 0.9932\n",
      "Epoch 11/15\n",
      "142/142 [==============================] - 260s 2s/step - loss: 0.0225 - accuracy: 0.9925 - val_loss: 0.0240 - val_accuracy: 0.9945\n",
      "Epoch 12/15\n",
      "142/142 [==============================] - 260s 2s/step - loss: 0.0223 - accuracy: 0.9929 - val_loss: 0.0252 - val_accuracy: 0.9945\n",
      "Epoch 13/15\n",
      "142/142 [==============================] - 270s 2s/step - loss: 0.0184 - accuracy: 0.9940 - val_loss: 0.0321 - val_accuracy: 0.9945\n",
      "Epoch 14/15\n",
      "142/142 [==============================] - 269s 2s/step - loss: 0.0183 - accuracy: 0.9945 - val_loss: 0.0366 - val_accuracy: 0.9940\n",
      "Epoch 15/15\n",
      "142/142 [==============================] - 258s 2s/step - loss: 0.0182 - accuracy: 0.9947 - val_loss: 0.0267 - val_accuracy: 0.9945\n"
     ]
    }
   ],
   "source": [
    "history = model.fit(\n",
    "\ttraining_dataset,\n",
    "\tepochs=15,\n",
    "\tvalidation_data=validation_dataset,\n",
    ")"
   ]
  },
  {
   "cell_type": "code",
   "execution_count": 14,
   "metadata": {},
   "outputs": [
    {
     "data": {
      "image/png": "[encoded data removed]",
      "text/plain": [
       "<Figure size 1200x600 with 2 Axes>"
      ]
     },
     "metadata": {},
     "output_type": "display_data"
    }
   ],
   "source": [
    "acc = history.history['accuracy']\n",
    "val_acc = history.history['val_accuracy']\n",
    "loss = history.history['loss']\n",
    "val_loss = history.history['val_loss']\n",
    "\n",
    "epochs = range(1, len(acc) + 1)\n",
    "\n",
    "#plot accuracy\n",
    "plt.figure(figsize=(12, 6))\n",
    "plt.subplot(1, 2, 1)\n",
    "plt.plot(epochs, acc, label='Training Accuracy', marker='o')\n",
    "plt.plot(epochs, val_acc, label='Validation Accuracy', marker='o')\n",
    "plt.title('Training and Validation Accuracy')\n",
    "plt.xlabel('Epochs')\n",
    "plt.ylabel('Accuracy')\n",
    "plt.legend()\n",
    "\n",
    "#plot loss\n",
    "plt.subplot(1, 2, 2)\n",
    "plt.plot(epochs, loss, label='Training Loss', marker='o')\n",
    "plt.plot(epochs, val_loss, label='Validation Loss', marker='o')\n",
    "plt.title('Training and Validation Loss')\n",
    "plt.xlabel('Epochs')\n",
    "plt.ylabel('Loss')\n",
    "plt.legend()\n",
    "\n",
    "plt.tight_layout()\n",
    "plt.show()"
   ]
  },
  {
   "cell_type": "code",
   "execution_count": 32,
   "metadata": {},
   "outputs": [],
   "source": [
    "from tensorflow.keras.utils import load_img, img_to_array\n",
    "from tensorflow.keras.models import load_model"
   ]
  },
  {
   "cell_type": "code",
   "execution_count": 15,
   "metadata": {},
   "outputs": [
    {
     "name": "stderr",
     "output_type": "stream",
     "text": [
      "c:\\Users\\acer\\anaconda3\\envs\\streamlitenv\\Lib\\site-packages\\keras\\src\\engine\\training.py:3103: UserWarning: You are saving your model as an HDF5 file via `model.save()`. This file format is considered legacy. We recommend using instead the native Keras format, e.g. `model.save('my_model.keras')`.\n",
      "  saving_api.save_model(\n"
     ]
    }
   ],
   "source": [
    "model.save(\"aksara_model.h5\")"
   ]
  },
  {
   "cell_type": "code",
   "execution_count": 22,
   "metadata": {},
   "outputs": [
    {
     "name": "stdout",
     "output_type": "stream",
     "text": [
      "INFO:tensorflow:Assets written to: C:\\Users\\acer\\AppData\\Local\\Temp\\tmpaya3x_rq\\assets\n"
     ]
    },
    {
     "name": "stderr",
     "output_type": "stream",
     "text": [
      "INFO:tensorflow:Assets written to: C:\\Users\\acer\\AppData\\Local\\Temp\\tmpaya3x_rq\\assets\n"
     ]
    },
    {
     "name": "stdout",
     "output_type": "stream",
     "text": [
      "Model berhasil dikonversi ke TFLite.\n"
     ]
    }
   ],
   "source": [
    "# Muat model jika perlu (jika belum dimuat)\n",
    "model = tf.keras.models.load_model(\"aksara_model.h5\")\n",
    "\n",
    "# Konversi model ke format TFLite\n",
    "converter = tf.lite.TFLiteConverter.from_keras_model(model)\n",
    "tflite_model = converter.convert()\n",
    "\n",
    "# Simpan model dalam format TFLite\n",
    "with open(\"aksara_model.tflite\", \"wb\") as tflite_file:\n",
    "    tflite_file.write(tflite_model)\n",
    "\n",
    "print(\"Model berhasil dikonversi ke TFLite.\")\n"
   ]
  }
 ],
 "metadata": {
  "kernelspec": {
   "display_name": "streamlitenv",
   "language": "python",
   "name": "python3"
  },
  "language_info": {
   "codemirror_mode": {
    "name": "ipython",
    "version": 3
   },
   "file_extension": ".py",
   "mimetype": "text/x-python",
   "name": "python",
   "nbconvert_exporter": "python",
   "pygments_lexer": "ipython3",
   "version": "3.11.10"
  }
 },
 "nbformat": 4,
 "nbformat_minor": 2
}
